{
 "cells": [
  {
   "cell_type": "code",
   "execution_count": null,
   "metadata": {},
   "outputs": [],
   "source": [
    "# ETL project Bootcamp\n",
    "# Estefanía González\n",
    "# Paolo Vega\n",
    "# 20-may-2020 Version 1.0.0"
   ]
  },
  {
   "cell_type": "code",
   "execution_count": 1,
   "metadata": {},
   "outputs": [],
   "source": [
    "# Modules needed\n",
    "import pandas as pd\n",
    "import json\n",
    "from pandas.io.json import json_normalize\n",
    "import sqlalchemy\n",
    "from sqlalchemy.ext.automap import automap_base\n",
    "from sqlalchemy.orm import Session\n",
    "from sqlalchemy import create_engine, func, inspect\n",
    "import os"
   ]
  },
  {
   "cell_type": "code",
   "execution_count": 2,
   "metadata": {},
   "outputs": [
    {
     "output_type": "execute_result",
     "data": {
      "text/plain": "   id     snippet.title\n0   1  Film & Animation\n1   2  Autos & Vehicles\n2  10             Music\n3  15    Pets & Animals\n4  17            Sports",
      "text/html": "<div>\n<style scoped>\n    .dataframe tbody tr th:only-of-type {\n        vertical-align: middle;\n    }\n\n    .dataframe tbody tr th {\n        vertical-align: top;\n    }\n\n    .dataframe thead th {\n        text-align: right;\n    }\n</style>\n<table border=\"1\" class=\"dataframe\">\n  <thead>\n    <tr style=\"text-align: right;\">\n      <th></th>\n      <th>id</th>\n      <th>snippet.title</th>\n    </tr>\n  </thead>\n  <tbody>\n    <tr>\n      <th>0</th>\n      <td>1</td>\n      <td>Film &amp; Animation</td>\n    </tr>\n    <tr>\n      <th>1</th>\n      <td>2</td>\n      <td>Autos &amp; Vehicles</td>\n    </tr>\n    <tr>\n      <th>2</th>\n      <td>10</td>\n      <td>Music</td>\n    </tr>\n    <tr>\n      <th>3</th>\n      <td>15</td>\n      <td>Pets &amp; Animals</td>\n    </tr>\n    <tr>\n      <th>4</th>\n      <td>17</td>\n      <td>Sports</td>\n    </tr>\n  </tbody>\n</table>\n</div>"
     },
     "metadata": {},
     "execution_count": 2
    }
   ],
   "source": [
    "# Read JSON file\n",
    "file = 'Resources/DataSources/json/CA_category_id.json'\n",
    "# Opemn JSON File\n",
    "data = json.load(open(file))\n",
    "# Normalize 'items' element inside json tree (where our information is)\n",
    "items_df = json_normalize(data['items'])\n",
    "# Remove unwanted columns\n",
    "items_df = items_df[[\"id\",\"snippet.title\"]].copy()\n",
    "items_df.head()"
   ]
  },
  {
   "cell_type": "code",
   "execution_count": 3,
   "metadata": {},
   "outputs": [
    {
     "output_type": "execute_result",
     "data": {
      "text/plain": "  CategoryID      CategoryName\n0          1  Film & Animation\n1          2  Autos & Vehicles\n2         10             Music\n3         15    Pets & Animals\n4         17            Sports",
      "text/html": "<div>\n<style scoped>\n    .dataframe tbody tr th:only-of-type {\n        vertical-align: middle;\n    }\n\n    .dataframe tbody tr th {\n        vertical-align: top;\n    }\n\n    .dataframe thead th {\n        text-align: right;\n    }\n</style>\n<table border=\"1\" class=\"dataframe\">\n  <thead>\n    <tr style=\"text-align: right;\">\n      <th></th>\n      <th>CategoryID</th>\n      <th>CategoryName</th>\n    </tr>\n  </thead>\n  <tbody>\n    <tr>\n      <th>0</th>\n      <td>1</td>\n      <td>Film &amp; Animation</td>\n    </tr>\n    <tr>\n      <th>1</th>\n      <td>2</td>\n      <td>Autos &amp; Vehicles</td>\n    </tr>\n    <tr>\n      <th>2</th>\n      <td>10</td>\n      <td>Music</td>\n    </tr>\n    <tr>\n      <th>3</th>\n      <td>15</td>\n      <td>Pets &amp; Animals</td>\n    </tr>\n    <tr>\n      <th>4</th>\n      <td>17</td>\n      <td>Sports</td>\n    </tr>\n  </tbody>\n</table>\n</div>"
     },
     "metadata": {},
     "execution_count": 3
    }
   ],
   "source": [
    "# Rename columns\n",
    "items_df = items_df.rename(columns={\"id\":\"CategoryID\",\"snippet.title\":\"CategoryName\"})\n",
    "# Set index to ID column\n",
    "#items_df = items_df.set_index(\"CategoryID\")\n",
    "items_df.head()"
   ]
  },
  {
   "cell_type": "code",
   "execution_count": 4,
   "metadata": {},
   "outputs": [
    {
     "output_type": "display_data",
     "data": {
      "text/plain": "['Category', 'Video', 'Country']"
     },
     "metadata": {}
    }
   ],
   "source": [
    "# import variables from config file\n",
    "from credentials import host\n",
    "from credentials import pwd\n",
    "from credentials import usr\n",
    "from credentials import dialect\n",
    "from credentials import port\n",
    "from credentials import db\n",
    "\n",
    "engine = create_engine(f'{dialect}://{usr}:{pwd}@{host}:{port}/{db}')\n",
    "\n",
    "# reflect an existing database into a new model\n",
    "Base = automap_base()\n",
    "# reflect the tables\n",
    "Base.prepare(engine, reflect=True)\n",
    "# display tables/classes\n",
    "display(Base.classes.keys())\n",
    "\n",
    "# Save references to each table\n",
    "Category = Base.classes.Category\n",
    "Country = Base.classes.Country\n",
    "Video = Base.classes.Video\n",
    "\n",
    "# Start session\n",
    "session = Session(engine)"
   ]
  },
  {
   "cell_type": "code",
   "execution_count": 20,
   "metadata": {},
   "outputs": [],
   "source": [
    "# Read Tables to determine what task to perform in each\n",
    "category_data = pd.read_sql_table(\"Category\",engine)\n",
    "country_data = pd.read_sql_table(\"Country\",engine)\n",
    "video_data = pd.read_sql_table(\"Video\",engine)\n",
    "engine.dispose()"
   ]
  },
  {
   "cell_type": "code",
   "execution_count": 19,
   "metadata": {},
   "outputs": [
    {
     "output_type": "stream",
     "name": "stdout",
     "text": "Table empty. \n Inserting values...\nDone!\n"
    }
   ],
   "source": [
    "# insert strategy (empty table)\n",
    "items_df.head()\n",
    "if len(category_data) == 0:\n",
    "    print(\"Table empty. \\n Inserting values...\")\n",
    "    for index, row in items_df.iterrows():\n",
    "        # remove leading spaces and capitalize the string\n",
    "        categoryNameTemp = row[\"CategoryName\"].strip().capitalize()\n",
    "        # create a new object (category)\n",
    "        newCategory = Category(CategoryID = row[\"CategoryID\"], CategoryName = (categoryNameTemp))\n",
    "        # insert into DB\n",
    "        session.add(newCategory)\n",
    "    print(\"Done!\")\n",
    "# update Strategy (table with existing rows)\n",
    "else:\n",
    "    print(\"Table not empty\")\n",
    "    # TO DO\n",
    "\n",
    "# Commit changes\n",
    "session.commit()"
   ]
  },
  {
   "cell_type": "code",
   "execution_count": 22,
   "metadata": {},
   "outputs": [
    {
     "output_type": "execute_result",
     "data": {
      "text/plain": "    CategoryID          CategoryName\n0            1      Film & animation\n1            2      Autos & vehicles\n2           10                 Music\n3           15        Pets & animals\n4           17                Sports\n5           18          Short movies\n6           19       Travel & events\n7           20                Gaming\n8           21         Videoblogging\n9           22        People & blogs\n10          23                Comedy\n11          24         Entertainment\n12          25       News & politics\n13          26         Howto & style\n14          27             Education\n15          28  Science & technology\n16          30                Movies\n17          31       Anime/animation\n18          32      Action/adventure\n19          33              Classics\n20          34                Comedy\n21          35           Documentary\n22          36                 Drama\n23          37                Family\n24          38               Foreign\n25          39                Horror\n26          40        Sci-fi/fantasy\n27          41              Thriller\n28          42                Shorts\n29          43                 Shows\n30          44              Trailers",
      "text/html": "<div>\n<style scoped>\n    .dataframe tbody tr th:only-of-type {\n        vertical-align: middle;\n    }\n\n    .dataframe tbody tr th {\n        vertical-align: top;\n    }\n\n    .dataframe thead th {\n        text-align: right;\n    }\n</style>\n<table border=\"1\" class=\"dataframe\">\n  <thead>\n    <tr style=\"text-align: right;\">\n      <th></th>\n      <th>CategoryID</th>\n      <th>CategoryName</th>\n    </tr>\n  </thead>\n  <tbody>\n    <tr>\n      <th>0</th>\n      <td>1</td>\n      <td>Film &amp; animation</td>\n    </tr>\n    <tr>\n      <th>1</th>\n      <td>2</td>\n      <td>Autos &amp; vehicles</td>\n    </tr>\n    <tr>\n      <th>2</th>\n      <td>10</td>\n      <td>Music</td>\n    </tr>\n    <tr>\n      <th>3</th>\n      <td>15</td>\n      <td>Pets &amp; animals</td>\n    </tr>\n    <tr>\n      <th>4</th>\n      <td>17</td>\n      <td>Sports</td>\n    </tr>\n    <tr>\n      <th>5</th>\n      <td>18</td>\n      <td>Short movies</td>\n    </tr>\n    <tr>\n      <th>6</th>\n      <td>19</td>\n      <td>Travel &amp; events</td>\n    </tr>\n    <tr>\n      <th>7</th>\n      <td>20</td>\n      <td>Gaming</td>\n    </tr>\n    <tr>\n      <th>8</th>\n      <td>21</td>\n      <td>Videoblogging</td>\n    </tr>\n    <tr>\n      <th>9</th>\n      <td>22</td>\n      <td>People &amp; blogs</td>\n    </tr>\n    <tr>\n      <th>10</th>\n      <td>23</td>\n      <td>Comedy</td>\n    </tr>\n    <tr>\n      <th>11</th>\n      <td>24</td>\n      <td>Entertainment</td>\n    </tr>\n    <tr>\n      <th>12</th>\n      <td>25</td>\n      <td>News &amp; politics</td>\n    </tr>\n    <tr>\n      <th>13</th>\n      <td>26</td>\n      <td>Howto &amp; style</td>\n    </tr>\n    <tr>\n      <th>14</th>\n      <td>27</td>\n      <td>Education</td>\n    </tr>\n    <tr>\n      <th>15</th>\n      <td>28</td>\n      <td>Science &amp; technology</td>\n    </tr>\n    <tr>\n      <th>16</th>\n      <td>30</td>\n      <td>Movies</td>\n    </tr>\n    <tr>\n      <th>17</th>\n      <td>31</td>\n      <td>Anime/animation</td>\n    </tr>\n    <tr>\n      <th>18</th>\n      <td>32</td>\n      <td>Action/adventure</td>\n    </tr>\n    <tr>\n      <th>19</th>\n      <td>33</td>\n      <td>Classics</td>\n    </tr>\n    <tr>\n      <th>20</th>\n      <td>34</td>\n      <td>Comedy</td>\n    </tr>\n    <tr>\n      <th>21</th>\n      <td>35</td>\n      <td>Documentary</td>\n    </tr>\n    <tr>\n      <th>22</th>\n      <td>36</td>\n      <td>Drama</td>\n    </tr>\n    <tr>\n      <th>23</th>\n      <td>37</td>\n      <td>Family</td>\n    </tr>\n    <tr>\n      <th>24</th>\n      <td>38</td>\n      <td>Foreign</td>\n    </tr>\n    <tr>\n      <th>25</th>\n      <td>39</td>\n      <td>Horror</td>\n    </tr>\n    <tr>\n      <th>26</th>\n      <td>40</td>\n      <td>Sci-fi/fantasy</td>\n    </tr>\n    <tr>\n      <th>27</th>\n      <td>41</td>\n      <td>Thriller</td>\n    </tr>\n    <tr>\n      <th>28</th>\n      <td>42</td>\n      <td>Shorts</td>\n    </tr>\n    <tr>\n      <th>29</th>\n      <td>43</td>\n      <td>Shows</td>\n    </tr>\n    <tr>\n      <th>30</th>\n      <td>44</td>\n      <td>Trailers</td>\n    </tr>\n  </tbody>\n</table>\n</div>"
     },
     "metadata": {},
     "execution_count": 22
    }
   ],
   "source": [
    "# Validate data into DB\n",
    "category_data = pd.read_sql_table(\"Category\",engine)\n",
    "category_data"
   ]
  }
 ],
 "metadata": {
  "language_info": {
   "codemirror_mode": {
    "name": "ipython",
    "version": 3
   },
   "file_extension": ".py",
   "mimetype": "text/x-python",
   "name": "python",
   "nbconvert_exporter": "python",
   "pygments_lexer": "ipython3",
   "version": "3.8.0-final"
  },
  "orig_nbformat": 2,
  "kernelspec": {
   "name": "python38032bit798b70efccf64792ad18789d36a7aab9",
   "display_name": "Python 3.8.0 32-bit"
  }
 },
 "nbformat": 4,
 "nbformat_minor": 2
}
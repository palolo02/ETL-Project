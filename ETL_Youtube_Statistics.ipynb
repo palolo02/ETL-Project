{
 "cells": [
  {
   "cell_type": "code",
   "execution_count": null,
   "metadata": {},
   "outputs": [],
   "source": [
    "# ETL project Bootcamp\n",
    "# Estefanía González\n",
    "# Paolo Vega\n",
    "# 20-may-2020 Version 1.0.0"
   ]
  },
  {
   "cell_type": "code",
   "execution_count": 23,
   "metadata": {},
   "outputs": [],
   "source": [
    "# Modules needed\n",
    "import pandas\n",
    "import json\n",
    "from pandas.io.json import json_normalize\n",
    "import sqlalchemy\n",
    "from sqlalchemy.ext.automap import automap_base\n",
    "from sqlalchemy.orm import Session\n",
    "from sqlalchemy import create_engine, func, inspect\n",
    "import os"
   ]
  },
  {
   "cell_type": "code",
   "execution_count": 21,
   "metadata": {},
   "outputs": [
    {
     "output_type": "execute_result",
     "data": {
      "text/plain": "   id     snippet.title\n0   1  Film & Animation\n1   2  Autos & Vehicles\n2  10             Music\n3  15    Pets & Animals\n4  17            Sports",
      "text/html": "<div>\n<style scoped>\n    .dataframe tbody tr th:only-of-type {\n        vertical-align: middle;\n    }\n\n    .dataframe tbody tr th {\n        vertical-align: top;\n    }\n\n    .dataframe thead th {\n        text-align: right;\n    }\n</style>\n<table border=\"1\" class=\"dataframe\">\n  <thead>\n    <tr style=\"text-align: right;\">\n      <th></th>\n      <th>id</th>\n      <th>snippet.title</th>\n    </tr>\n  </thead>\n  <tbody>\n    <tr>\n      <th>0</th>\n      <td>1</td>\n      <td>Film &amp; Animation</td>\n    </tr>\n    <tr>\n      <th>1</th>\n      <td>2</td>\n      <td>Autos &amp; Vehicles</td>\n    </tr>\n    <tr>\n      <th>2</th>\n      <td>10</td>\n      <td>Music</td>\n    </tr>\n    <tr>\n      <th>3</th>\n      <td>15</td>\n      <td>Pets &amp; Animals</td>\n    </tr>\n    <tr>\n      <th>4</th>\n      <td>17</td>\n      <td>Sports</td>\n    </tr>\n  </tbody>\n</table>\n</div>"
     },
     "metadata": {},
     "execution_count": 21
    }
   ],
   "source": [
    "# Read JSON file\n",
    "file = 'Resources/DataSources/json/CA_category_id.json'\n",
    "# Opemn JSON File\n",
    "data = json.load(open(file))\n",
    "# Normalize 'items' element inside json tree (where our information is)\n",
    "items_df = json_normalize(data['items'])\n",
    "# Remove unwanted columns\n",
    "items_df = items_df[[\"id\",\"snippet.title\"]].copy()\n",
    "items_df.head()"
   ]
  },
  {
   "cell_type": "code",
   "execution_count": 22,
   "metadata": {},
   "outputs": [
    {
     "output_type": "execute_result",
     "data": {
      "text/plain": "                CategoryName\nCategoryID                  \n1           Film & Animation\n2           Autos & Vehicles\n10                     Music\n15            Pets & Animals\n17                    Sports",
      "text/html": "<div>\n<style scoped>\n    .dataframe tbody tr th:only-of-type {\n        vertical-align: middle;\n    }\n\n    .dataframe tbody tr th {\n        vertical-align: top;\n    }\n\n    .dataframe thead th {\n        text-align: right;\n    }\n</style>\n<table border=\"1\" class=\"dataframe\">\n  <thead>\n    <tr style=\"text-align: right;\">\n      <th></th>\n      <th>CategoryName</th>\n    </tr>\n    <tr>\n      <th>CategoryID</th>\n      <th></th>\n    </tr>\n  </thead>\n  <tbody>\n    <tr>\n      <th>1</th>\n      <td>Film &amp; Animation</td>\n    </tr>\n    <tr>\n      <th>2</th>\n      <td>Autos &amp; Vehicles</td>\n    </tr>\n    <tr>\n      <th>10</th>\n      <td>Music</td>\n    </tr>\n    <tr>\n      <th>15</th>\n      <td>Pets &amp; Animals</td>\n    </tr>\n    <tr>\n      <th>17</th>\n      <td>Sports</td>\n    </tr>\n  </tbody>\n</table>\n</div>"
     },
     "metadata": {},
     "execution_count": 22
    }
   ],
   "source": [
    "# Rename columns\n",
    "items_df = items_df.rename(columns={\"id\":\"CategoryID\",\"snippet.title\":\"CategoryName\"})\n",
    "# Set index to ID column\n",
    "items_df = items_df.set_index(\"CategoryID\")\n",
    "items_df.head()"
   ]
  },
  {
   "cell_type": "code",
   "execution_count": null,
   "metadata": {},
   "outputs": [],
   "source": [
    "from credentials import host\n",
    "from credentials import pwd\n",
    "from credentials import usr\n",
    "from credentials import dialect\n",
    "from credentials import port\n",
    "from credentials import db\n",
    "\n",
    "engine = create_engine(f'{dialect}://{usr}:{pwd}@{host}:{port}/{db}')"
   ]
  },
  {
   "cell_type": "code",
   "execution_count": null,
   "metadata": {},
   "outputs": [],
   "source": [
    "# Read CSV\n"
   ]
  }
 ],
 "metadata": {
  "language_info": {
   "codemirror_mode": {
    "name": "ipython",
    "version": 3
   },
   "file_extension": ".py",
   "mimetype": "text/x-python",
   "name": "python",
   "nbconvert_exporter": "python",
   "pygments_lexer": "ipython3",
   "version": "3.8.0-final"
  },
  "orig_nbformat": 2,
  "kernelspec": {
   "name": "python38032bit798b70efccf64792ad18789d36a7aab9",
   "display_name": "Python 3.8.0 32-bit"
  }
 },
 "nbformat": 4,
 "nbformat_minor": 2
}
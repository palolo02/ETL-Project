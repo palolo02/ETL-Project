{
 "cells": [
  {
   "cell_type": "code",
   "execution_count": 1,
   "metadata": {},
   "outputs": [],
   "source": [
    "# ETL project Bootcamp\n",
    "# Estefanía González\n",
    "# Paolo Vega\n",
    "# 20-may-2020 Version 1.0.1"
   ]
  },
  {
   "cell_type": "code",
   "execution_count": 4,
   "metadata": {},
   "outputs": [],
   "source": [
    "# Modules needed\n",
    "import pandas as pd\n",
    "import json\n",
    "from pandas.io.json import json_normalize\n",
    "import sqlalchemy\n",
    "from sqlalchemy.ext.automap import automap_base\n",
    "from sqlalchemy.orm import Session\n",
    "from sqlalchemy import create_engine, func, inspect\n",
    "import os\n",
    "import glob\n",
    "from datetime import datetime"
   ]
  },
  {
   "cell_type": "code",
   "execution_count": 5,
   "metadata": {},
   "outputs": [
    {
     "output_type": "execute_result",
     "data": {
      "text/plain": "   id     snippet.title\n0   1  Film & Animation\n1   2  Autos & Vehicles\n2  10             Music\n3  15    Pets & Animals\n4  17            Sports",
      "text/html": "<div>\n<style scoped>\n    .dataframe tbody tr th:only-of-type {\n        vertical-align: middle;\n    }\n\n    .dataframe tbody tr th {\n        vertical-align: top;\n    }\n\n    .dataframe thead th {\n        text-align: right;\n    }\n</style>\n<table border=\"1\" class=\"dataframe\">\n  <thead>\n    <tr style=\"text-align: right;\">\n      <th></th>\n      <th>id</th>\n      <th>snippet.title</th>\n    </tr>\n  </thead>\n  <tbody>\n    <tr>\n      <th>0</th>\n      <td>1</td>\n      <td>Film &amp; Animation</td>\n    </tr>\n    <tr>\n      <th>1</th>\n      <td>2</td>\n      <td>Autos &amp; Vehicles</td>\n    </tr>\n    <tr>\n      <th>2</th>\n      <td>10</td>\n      <td>Music</td>\n    </tr>\n    <tr>\n      <th>3</th>\n      <td>15</td>\n      <td>Pets &amp; Animals</td>\n    </tr>\n    <tr>\n      <th>4</th>\n      <td>17</td>\n      <td>Sports</td>\n    </tr>\n  </tbody>\n</table>\n</div>"
     },
     "metadata": {},
     "execution_count": 5
    }
   ],
   "source": [
    "# Read JSON file\n",
    "file = 'Resources/DataSources/json/CA_category_id.json'\n",
    "# Opemn JSON File\n",
    "data = json.load(open(file))\n",
    "# Normalize 'items' element inside json tree (where our information is)\n",
    "items_df = json_normalize(data['items'])\n",
    "# Remove unwanted columns\n",
    "items_df = items_df[[\"id\",\"snippet.title\"]].copy()\n",
    "items_df.head()"
   ]
  },
  {
   "cell_type": "code",
   "execution_count": 6,
   "metadata": {},
   "outputs": [
    {
     "output_type": "execute_result",
     "data": {
      "text/plain": "   CategoryID          CategoryName\n0           1      Film & Animation\n1           2      Autos & Vehicles\n2          10                 Music\n3          15        Pets & Animals\n4          17                Sports\n5          18          Short Movies\n6          19       Travel & Events\n7          20                Gaming\n8          21         Videoblogging\n9          22        People & Blogs\n10         23                Comedy\n11         24         Entertainment\n12         25       News & Politics\n13         26         Howto & Style\n14         27             Education\n15         28  Science & Technology\n16         30                Movies\n17         31       Anime/Animation\n18         32      Action/Adventure\n19         33              Classics\n20         34                Comedy\n21         35           Documentary\n22         36                 Drama\n23         37                Family\n24         38               Foreign\n25         39                Horror\n26         40        Sci-Fi/Fantasy\n27         41              Thriller\n28         42                Shorts\n29         43                 Shows\n30         44              Trailers",
      "text/html": "<div>\n<style scoped>\n    .dataframe tbody tr th:only-of-type {\n        vertical-align: middle;\n    }\n\n    .dataframe tbody tr th {\n        vertical-align: top;\n    }\n\n    .dataframe thead th {\n        text-align: right;\n    }\n</style>\n<table border=\"1\" class=\"dataframe\">\n  <thead>\n    <tr style=\"text-align: right;\">\n      <th></th>\n      <th>CategoryID</th>\n      <th>CategoryName</th>\n    </tr>\n  </thead>\n  <tbody>\n    <tr>\n      <th>0</th>\n      <td>1</td>\n      <td>Film &amp; Animation</td>\n    </tr>\n    <tr>\n      <th>1</th>\n      <td>2</td>\n      <td>Autos &amp; Vehicles</td>\n    </tr>\n    <tr>\n      <th>2</th>\n      <td>10</td>\n      <td>Music</td>\n    </tr>\n    <tr>\n      <th>3</th>\n      <td>15</td>\n      <td>Pets &amp; Animals</td>\n    </tr>\n    <tr>\n      <th>4</th>\n      <td>17</td>\n      <td>Sports</td>\n    </tr>\n    <tr>\n      <th>5</th>\n      <td>18</td>\n      <td>Short Movies</td>\n    </tr>\n    <tr>\n      <th>6</th>\n      <td>19</td>\n      <td>Travel &amp; Events</td>\n    </tr>\n    <tr>\n      <th>7</th>\n      <td>20</td>\n      <td>Gaming</td>\n    </tr>\n    <tr>\n      <th>8</th>\n      <td>21</td>\n      <td>Videoblogging</td>\n    </tr>\n    <tr>\n      <th>9</th>\n      <td>22</td>\n      <td>People &amp; Blogs</td>\n    </tr>\n    <tr>\n      <th>10</th>\n      <td>23</td>\n      <td>Comedy</td>\n    </tr>\n    <tr>\n      <th>11</th>\n      <td>24</td>\n      <td>Entertainment</td>\n    </tr>\n    <tr>\n      <th>12</th>\n      <td>25</td>\n      <td>News &amp; Politics</td>\n    </tr>\n    <tr>\n      <th>13</th>\n      <td>26</td>\n      <td>Howto &amp; Style</td>\n    </tr>\n    <tr>\n      <th>14</th>\n      <td>27</td>\n      <td>Education</td>\n    </tr>\n    <tr>\n      <th>15</th>\n      <td>28</td>\n      <td>Science &amp; Technology</td>\n    </tr>\n    <tr>\n      <th>16</th>\n      <td>30</td>\n      <td>Movies</td>\n    </tr>\n    <tr>\n      <th>17</th>\n      <td>31</td>\n      <td>Anime/Animation</td>\n    </tr>\n    <tr>\n      <th>18</th>\n      <td>32</td>\n      <td>Action/Adventure</td>\n    </tr>\n    <tr>\n      <th>19</th>\n      <td>33</td>\n      <td>Classics</td>\n    </tr>\n    <tr>\n      <th>20</th>\n      <td>34</td>\n      <td>Comedy</td>\n    </tr>\n    <tr>\n      <th>21</th>\n      <td>35</td>\n      <td>Documentary</td>\n    </tr>\n    <tr>\n      <th>22</th>\n      <td>36</td>\n      <td>Drama</td>\n    </tr>\n    <tr>\n      <th>23</th>\n      <td>37</td>\n      <td>Family</td>\n    </tr>\n    <tr>\n      <th>24</th>\n      <td>38</td>\n      <td>Foreign</td>\n    </tr>\n    <tr>\n      <th>25</th>\n      <td>39</td>\n      <td>Horror</td>\n    </tr>\n    <tr>\n      <th>26</th>\n      <td>40</td>\n      <td>Sci-Fi/Fantasy</td>\n    </tr>\n    <tr>\n      <th>27</th>\n      <td>41</td>\n      <td>Thriller</td>\n    </tr>\n    <tr>\n      <th>28</th>\n      <td>42</td>\n      <td>Shorts</td>\n    </tr>\n    <tr>\n      <th>29</th>\n      <td>43</td>\n      <td>Shows</td>\n    </tr>\n    <tr>\n      <th>30</th>\n      <td>44</td>\n      <td>Trailers</td>\n    </tr>\n  </tbody>\n</table>\n</div>"
     },
     "metadata": {},
     "execution_count": 6
    }
   ],
   "source": [
    "# Rename columns\n",
    "items_df = items_df.rename(columns={\"id\":\"CategoryID\",\"snippet.title\":\"CategoryName\"})\n",
    "# Set index to ID column\n",
    "#items_df = items_df.set_index(\"CategoryID\")\n",
    "items_df"
   ]
  },
  {
   "cell_type": "code",
   "execution_count": 7,
   "metadata": {},
   "outputs": [
    {
     "output_type": "display_data",
     "data": {
      "text/plain": "['Category', 'Country', 'Video']"
     },
     "metadata": {}
    }
   ],
   "source": [
    "# import variables from config file\n",
    "from credentials import host\n",
    "from credentials import pwd\n",
    "from credentials import usr\n",
    "from credentials import dialect\n",
    "from credentials import port\n",
    "from credentials import db\n",
    "\n",
    "engine = create_engine(f'{dialect}://{usr}:{pwd}@{host}:{port}/{db}')\n",
    "\n",
    "# reflect an existing database into a new model\n",
    "Base = automap_base()\n",
    "# reflect the tables\n",
    "Base.prepare(engine, reflect=True)\n",
    "# display tables/classes\n",
    "display(Base.classes.keys())\n",
    "\n",
    "# Save references to each table\n",
    "Category = Base.classes.Category\n",
    "Country = Base.classes.Country\n",
    "Video = Base.classes.Video\n",
    "\n",
    "# Start session\n",
    "session = Session(engine)"
   ]
  },
  {
   "cell_type": "code",
   "execution_count": 8,
   "metadata": {},
   "outputs": [],
   "source": [
    "# Read Tables to determine what task to perform in each\n",
    "category_data = pd.read_sql_table(\"Category\",engine)\n",
    "country_data = pd.read_sql_table(\"Country\",engine)\n",
    "video_data = pd.read_sql_table(\"Video\",engine)\n",
    "engine.dispose()"
   ]
  },
  {
   "cell_type": "code",
   "execution_count": 23,
   "metadata": {},
   "outputs": [
    {
     "output_type": "stream",
     "name": "stdout",
     "text": "Error in the DB\n"
    }
   ],
   "source": [
    "# Cleaunup rules for dataframe columns (improve performance)\n",
    "# remove leading spaces and capitalize the string\n",
    "items_df.applymap(lambda x: x.strip().capitalize() if isinstance(x, str) else x)\n",
    "try:\n",
    "    items_df.to_sql('Category',con=engine,index=False,if_exists='append',chunksize=len(items_df))\n",
    "    print(\"Success!\")\n",
    "except:\n",
    "    print(\"Error in the DB\")"
   ]
  },
  {
   "cell_type": "code",
   "execution_count": 12,
   "metadata": {},
   "outputs": [
    {
     "output_type": "execute_result",
     "data": {
      "text/plain": "   CategoryID      CategoryName\n0           1  Film & Animation\n1           2  Autos & Vehicles\n2          10             Music\n3          15    Pets & Animals\n4          17            Sports",
      "text/html": "<div>\n<style scoped>\n    .dataframe tbody tr th:only-of-type {\n        vertical-align: middle;\n    }\n\n    .dataframe tbody tr th {\n        vertical-align: top;\n    }\n\n    .dataframe thead th {\n        text-align: right;\n    }\n</style>\n<table border=\"1\" class=\"dataframe\">\n  <thead>\n    <tr style=\"text-align: right;\">\n      <th></th>\n      <th>CategoryID</th>\n      <th>CategoryName</th>\n    </tr>\n  </thead>\n  <tbody>\n    <tr>\n      <th>0</th>\n      <td>1</td>\n      <td>Film &amp; Animation</td>\n    </tr>\n    <tr>\n      <th>1</th>\n      <td>2</td>\n      <td>Autos &amp; Vehicles</td>\n    </tr>\n    <tr>\n      <th>2</th>\n      <td>10</td>\n      <td>Music</td>\n    </tr>\n    <tr>\n      <th>3</th>\n      <td>15</td>\n      <td>Pets &amp; Animals</td>\n    </tr>\n    <tr>\n      <th>4</th>\n      <td>17</td>\n      <td>Sports</td>\n    </tr>\n  </tbody>\n</table>\n</div>"
     },
     "metadata": {},
     "execution_count": 12
    }
   ],
   "source": [
    "# Validate data into DB\n",
    "category_data = pd.read_sql_table(\"Category\",engine)\n",
    "category_data.head()"
   ]
  },
  {
   "cell_type": "code",
   "execution_count": 13,
   "metadata": {},
   "outputs": [],
   "source": [
    "#----- Columns to use in the csv file\n",
    "\n",
    "columns = [\n",
    "    'video_id',\n",
    "    'trending_date',\n",
    "    'title',\n",
    "    'channel_title',\n",
    "    'category_id',\n",
    "    'views',\n",
    "    'likes',\n",
    "    'dislikes',\n",
    "    'comment_count'\n",
    "]\n",
    "#----- All the countries that are used\n",
    "countries = ['CA',\n",
    "            'DE',\n",
    "            'FR',\n",
    "            'GB',\n",
    "            'IN',\n",
    "            'JP',\n",
    "            'KR',\n",
    "            'MX',\n",
    "            'RU',\n",
    "            'US'\n",
    "]"
   ]
  },
  {
   "cell_type": "code",
   "execution_count": 15,
   "metadata": {},
   "outputs": [],
   "source": [
    "#------ Readind all the csv files in the folder\n",
    "#------ Changing the encoding to latin1 in order to read the special characters\n",
    "dataframes = []\n",
    "\n",
    "for country in countries:\n",
    "    df = [pd.read_csv(f'./Resources/DataSources/csv/{country}videos.csv',encoding='latin1',index_col=None, header=0, \n",
    "                     usecols=columns)]\n",
    "    dataframes.append(df)"
   ]
  },
  {
   "cell_type": "code",
   "execution_count": 16,
   "metadata": {},
   "outputs": [],
   "source": [
    "#------ Datarframes of all countries availables \n",
    "\n",
    "ca = dataframes[0][0]\n",
    "de = dataframes[1][0]\n",
    "fr = dataframes[2][0]\n",
    "gb = dataframes[3][0]\n",
    "in_ = dataframes[4][0]\n",
    "jp = dataframes[5][0]\n",
    "kr = dataframes[6][0]\n",
    "mx = dataframes[7][0]\n",
    "ru = dataframes[8][0]\n",
    "us = dataframes[9][0]\n",
    "\n",
    "#----- Adding the CountryID to each DF\n",
    "ca['CountryID'] = 1\n",
    "de['CountryID'] = 2\n",
    "fr['CountryID'] = 3\n",
    "gb['CountryID'] = 4\n",
    "in_['CountryID'] = 5\n",
    "jp['CountryID'] = 6\n",
    "kr['CountryID'] = 7\n",
    "mx['CountryID'] = 8\n",
    "ru['CountryID'] = 9\n",
    "us['CountryID'] = 10\n",
    "\n",
    "#----- to read all the special character correctly\n"
   ]
  },
  {
   "cell_type": "code",
   "execution_count": 17,
   "metadata": {},
   "outputs": [],
   "source": [
    "#----- Creating the DF with all the countries\n",
    "\n",
    "Video_df = ca.append([de,fr,gb,in_,jp,kr,mx,ru,us])\n",
    "\n",
    "\n"
   ]
  },
  {
   "cell_type": "code",
   "execution_count": 18,
   "metadata": {},
   "outputs": [],
   "source": [
    "#------ Renaming the columns to export the data into the created Database\n",
    "\n",
    "Video_df.rename(columns={\n",
    "    'video_id' :'VideoID', \n",
    "    'trending_date':'TrendingDate',\n",
    "    'title':'Title', \n",
    "    'channel_title':'Channel', \n",
    "    'category_id':'CategoryID',\n",
    "    'views':'Views', \n",
    "    'likes':'Likes', \n",
    "    'dislikes' :'Dislikes', \n",
    "    'comment_count':'Comments'\n",
    "}, inplace = True)\n",
    "\n",
    "Video_df['Title'] = Video_df['Title'].str.encode('latin1').str.decode('utf8')\n",
    "Video_df['Channel'] = Video_df['Channel'].str.encode('latin1').str.decode('utf8')"
   ]
  },
  {
   "cell_type": "code",
   "execution_count": 14,
   "metadata": {},
   "outputs": [
    {
     "data": {
      "text/html": [
       "<div>\n",
       "<style scoped>\n",
       "    .dataframe tbody tr th:only-of-type {\n",
       "        vertical-align: middle;\n",
       "    }\n",
       "\n",
       "    .dataframe tbody tr th {\n",
       "        vertical-align: top;\n",
       "    }\n",
       "\n",
       "    .dataframe thead th {\n",
       "        text-align: right;\n",
       "    }\n",
       "</style>\n",
       "<table border=\"1\" class=\"dataframe\">\n",
       "  <thead>\n",
       "    <tr style=\"text-align: right;\">\n",
       "      <th></th>\n",
       "      <th>VideoID</th>\n",
       "      <th>TrendingDate</th>\n",
       "      <th>Title</th>\n",
       "      <th>Channel</th>\n",
       "      <th>CategoryID</th>\n",
       "      <th>Views</th>\n",
       "      <th>Likes</th>\n",
       "      <th>Dislikes</th>\n",
       "      <th>Comments</th>\n",
       "      <th>CountryID</th>\n",
       "    </tr>\n",
       "  </thead>\n",
       "  <tbody>\n",
       "    <tr>\n",
       "      <td>0</td>\n",
       "      <td>n1WpP7iowLc</td>\n",
       "      <td>17.14.11</td>\n",
       "      <td>Eminem - Walk On Water (Audio) ft. Beyoncé</td>\n",
       "      <td>EminemVEVO</td>\n",
       "      <td>10</td>\n",
       "      <td>17158579</td>\n",
       "      <td>787425</td>\n",
       "      <td>43420</td>\n",
       "      <td>125882</td>\n",
       "      <td>1</td>\n",
       "    </tr>\n",
       "    <tr>\n",
       "      <td>1</td>\n",
       "      <td>0dBIkQ4Mz1M</td>\n",
       "      <td>17.14.11</td>\n",
       "      <td>PLUSH - Bad Unboxing Fan Mail</td>\n",
       "      <td>iDubbbzTV</td>\n",
       "      <td>23</td>\n",
       "      <td>1014651</td>\n",
       "      <td>127794</td>\n",
       "      <td>1688</td>\n",
       "      <td>13030</td>\n",
       "      <td>1</td>\n",
       "    </tr>\n",
       "    <tr>\n",
       "      <td>2</td>\n",
       "      <td>5qpjK5DgCt4</td>\n",
       "      <td>17.14.11</td>\n",
       "      <td>Racist Superman | Rudy Mancuso, King Bach &amp; Le...</td>\n",
       "      <td>Rudy Mancuso</td>\n",
       "      <td>23</td>\n",
       "      <td>3191434</td>\n",
       "      <td>146035</td>\n",
       "      <td>5339</td>\n",
       "      <td>8181</td>\n",
       "      <td>1</td>\n",
       "    </tr>\n",
       "    <tr>\n",
       "      <td>3</td>\n",
       "      <td>d380meD0W0M</td>\n",
       "      <td>17.14.11</td>\n",
       "      <td>I Dare You: GOING BALD!?</td>\n",
       "      <td>nigahiga</td>\n",
       "      <td>24</td>\n",
       "      <td>2095828</td>\n",
       "      <td>132239</td>\n",
       "      <td>1989</td>\n",
       "      <td>17518</td>\n",
       "      <td>1</td>\n",
       "    </tr>\n",
       "    <tr>\n",
       "      <td>4</td>\n",
       "      <td>2Vv-BfVoq4g</td>\n",
       "      <td>17.14.11</td>\n",
       "      <td>Ed Sheeran - Perfect (Official Music Video)</td>\n",
       "      <td>Ed Sheeran</td>\n",
       "      <td>10</td>\n",
       "      <td>33523622</td>\n",
       "      <td>1634130</td>\n",
       "      <td>21082</td>\n",
       "      <td>85067</td>\n",
       "      <td>1</td>\n",
       "    </tr>\n",
       "  </tbody>\n",
       "</table>\n",
       "</div>"
      ],
      "text/plain": [
       "       VideoID TrendingDate  \\\n",
       "0  n1WpP7iowLc     17.14.11   \n",
       "1  0dBIkQ4Mz1M     17.14.11   \n",
       "2  5qpjK5DgCt4     17.14.11   \n",
       "3  d380meD0W0M     17.14.11   \n",
       "4  2Vv-BfVoq4g     17.14.11   \n",
       "\n",
       "                                               Title       Channel  \\\n",
       "0         Eminem - Walk On Water (Audio) ft. Beyoncé    EminemVEVO   \n",
       "1                      PLUSH - Bad Unboxing Fan Mail     iDubbbzTV   \n",
       "2  Racist Superman | Rudy Mancuso, King Bach & Le...  Rudy Mancuso   \n",
       "3                           I Dare You: GOING BALD!?      nigahiga   \n",
       "4        Ed Sheeran - Perfect (Official Music Video)    Ed Sheeran   \n",
       "\n",
       "   CategoryID     Views    Likes  Dislikes  Comments  CountryID  \n",
       "0          10  17158579   787425     43420    125882          1  \n",
       "1          23   1014651   127794      1688     13030          1  \n",
       "2          23   3191434   146035      5339      8181          1  \n",
       "3          24   2095828   132239      1989     17518          1  \n",
       "4          10  33523622  1634130     21082     85067          1  "
      ]
     },
     "execution_count": 14,
     "metadata": {},
     "output_type": "execute_result"
    }
   ],
   "source": [
    "Video_df.head()"
   ]
  },
  {
   "cell_type": "code",
   "execution_count": 19,
   "metadata": {},
   "outputs": [],
   "source": [
    "#------- Creating the table with the countriesID\n",
    "\n",
    "index=list(range(1,len(countries)+1))\n",
    "Country_df = pd.DataFrame({'CountryID':index,'CountryName':countries})\n"
   ]
  },
  {
   "cell_type": "code",
   "execution_count": 24,
   "metadata": {},
   "outputs": [
    {
     "output_type": "stream",
     "name": "stdout",
     "text": "Error in the DB\n"
    }
   ],
   "source": [
    "# insert Countrty (empty table)\n",
    "Country_df.applymap(lambda x: x.strip().capitalize() if isinstance(x, str) else x)\n",
    "try:\n",
    "    Country_df.to_sql('Country', con=engine, index=False, if_exists='append',chunksize=len(Country_df))\n",
    "    print(\"Success!\")\n",
    "except:\n",
    "    print(\"Error inserting into the DB\")"
   ]
  },
  {
   "cell_type": "code",
   "execution_count": 25,
   "metadata": {},
   "outputs": [],
   "source": [
    "#-----  Removing leading spaces and capitalize the string\n",
    "Video_df[\"VideoID\"] = Video_df[\"VideoID\"].str.strip().str.capitalize()\n",
    "Video_df['TrendingDate']= Video_df['TrendingDate'].str.replace('.','-')\n",
    "Video_df['TrendingDate']=pd.to_datetime(Video_df['TrendingDate'], format =\"%y-%d-%m\")\n",
    "Video_df[\"Title\"] = Video_df[\"Title\"].str.strip().str.capitalize()\n",
    "Video_df[\"Channel\"]=Video_df[\"Channel\"].str.strip().str.capitalize()\n",
    "Video_df[\"CategoryName\"]=Video_df[\"CategoryName\"].str.strip().str.capitalize()\n",
    "idx = 0\n",
    "new_col = list(range(1,len(Video_df[\"VideoID\"])+1))  # can be a list, a Series, an array or a scalar   \n",
    "Video_df.insert(loc=idx, column='VideoSRID', value=new_col)"
   ]
  },
  {
   "cell_type": "code",
   "execution_count": 26,
   "metadata": {},
   "outputs": [],
   "source": [
    "#---- Extracting the CategoryID from the DF Video_df, in order to see if all categories are inclueded\n",
    "\n",
    "category_data2=pd.DataFrame(data=Video_df['CategoryID'].drop_duplicates())\n",
    "category_data2.reset_index(inplace = True)\n",
    "category_data2.drop(columns=['index'],inplace = True)"
   ]
  },
  {
   "cell_type": "code",
   "execution_count": 27,
   "metadata": {},
   "outputs": [],
   "source": [
    "#----- Merging with the previous categories that are loaded in the database\n",
    "\n",
    "categorias_df= pd.merge(category_data2,category_data, on='CategoryID', how='left')\n"
   ]
  },
  {
   "cell_type": "code",
   "execution_count": 28,
   "metadata": {},
   "outputs": [],
   "source": [
    "#----- Selecting the ones that are not included in the database\n",
    "new_cat= categorias_df[categorias_df['CategoryName'].isnull()]"
   ]
  },
  {
   "cell_type": "code",
   "execution_count": 29,
   "metadata": {},
   "outputs": [],
   "source": [
    "#------ Adding the New category to format purposes\n",
    "new_cat.fillna(\"New Category\", inplace = True)"
   ]
  },
  {
   "cell_type": "code",
   "execution_count": 22,
   "metadata": {},
   "outputs": [
    {
     "data": {
      "text/html": [
       "<div>\n",
       "<style scoped>\n",
       "    .dataframe tbody tr th:only-of-type {\n",
       "        vertical-align: middle;\n",
       "    }\n",
       "\n",
       "    .dataframe tbody tr th {\n",
       "        vertical-align: top;\n",
       "    }\n",
       "\n",
       "    .dataframe thead th {\n",
       "        text-align: right;\n",
       "    }\n",
       "</style>\n",
       "<table border=\"1\" class=\"dataframe\">\n",
       "  <thead>\n",
       "    <tr style=\"text-align: right;\">\n",
       "      <th></th>\n",
       "      <th>CategoryID</th>\n",
       "      <th>CategoryName</th>\n",
       "    </tr>\n",
       "  </thead>\n",
       "  <tbody>\n",
       "    <tr>\n",
       "      <td>10</td>\n",
       "      <td>29</td>\n",
       "      <td>New Category</td>\n",
       "    </tr>\n",
       "  </tbody>\n",
       "</table>\n",
       "</div>"
      ],
      "text/plain": [
       "    CategoryID  CategoryName\n",
       "10          29  New Category"
      ]
     },
     "execution_count": 22,
     "metadata": {},
     "output_type": "execute_result"
    }
   ],
   "source": [
    "new_cat"
   ]
  },
  {
   "cell_type": "code",
   "execution_count": 30,
   "metadata": {},
   "outputs": [
    {
     "output_type": "stream",
     "name": "stdout",
     "text": "Done!\nCommit!\n"
    }
   ],
   "source": [
    "#Adding the new Categories into the table Category\n",
    "for index, row in new_cat.iterrows():\n",
    "        # create a new object (category)\n",
    "        newCategory = Category(CategoryID = row[\"CategoryID\"], CategoryName = row[\"CategoryName\"])\n",
    "        # insert into DB\n",
    "        session.add(newCategory)\n",
    "        print(\"Done!\")\n",
    "# Commit changes\n",
    "try:\n",
    "    session.commit()\n",
    "    print(\"Commit!\")\n",
    "except:\n",
    "    session.rollback()\n",
    "    print(\"Rollback :(\")"
   ]
  },
  {
   "cell_type": "code",
   "execution_count": 33,
   "metadata": {},
   "outputs": [
    {
     "output_type": "stream",
     "name": "stdout",
     "text": "Success!\n"
    }
   ],
   "source": [
    "#------ Adding the Video_df to the table Video in sets of 10000 in order to load fastest\n",
    "try:\n",
    "    Video_df.to_sql('Video',con=engine,index=False,if_exists='append',chunksize=10000)\n",
    "    print(\"Success!\")\n",
    "except:\n",
    "    print(\"Error inserting into the DB\")"
   ]
  },
  {
   "cell_type": "code",
   "execution_count": null,
   "metadata": {},
   "outputs": [],
   "source": []
  },
  {
   "cell_type": "code",
   "execution_count": null,
   "metadata": {},
   "outputs": [],
   "source": []
  }
 ],
 "metadata": {
  "kernelspec": {
   "display_name": "Python 3",
   "language": "python",
   "name": "python3"
  },
  "language_info": {
   "codemirror_mode": {
    "name": "ipython",
    "version": 3
   },
   "file_extension": ".py",
   "mimetype": "text/x-python",
   "name": "python",
   "nbconvert_exporter": "python",
   "pygments_lexer": "ipython3",
   "version": "3.8.0-final"
  }
 },
 "nbformat": 4,
 "nbformat_minor": 2
}